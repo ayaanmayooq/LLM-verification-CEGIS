{
 "cells": [
  {
   "cell_type": "code",
   "execution_count": 81,
   "metadata": {},
   "outputs": [],
   "source": [
    "import pandas as pd\n",
    "from pandas.io.json import json_normalize  \n",
    "import scienceplots\n",
    "import json\n",
    "import matplotlib.pyplot as plt\n",
    "import numpy as np\n",
    "import seaborn as sns"
   ]
  },
  {
   "cell_type": "code",
   "execution_count": 77,
   "metadata": {},
   "outputs": [
    {
     "data": {
      "image/png": "[encoded data removed]",
      "text/plain": [
       "<Figure size 330x250 with 1 Axes>"
      ]
     },
     "metadata": {},
     "output_type": "display_data"
    }
   ],
   "source": [
    "plt.style.use(['science', 'no-latex', 'nature'])\n",
    "data_file = \"data/exp2-2024-04-22-14_33_42.json\"\n",
    "with open(data_file, \"r\") as f:\n",
    "    data = json.load(f)\n",
    "# df = pd.DataFrame(data['results'])\n",
    "# # convert each dict in the 'results' column to a separate column\n",
    "# df_gpt3 = pd.DataFrame(df['gpt-3.5-turbo'].values.tolist(), index=df.index)\n",
    "# df_gpt4 = pd.DataFrame(df['gpt-4-turbo-preview'].values.tolist(), index=df.index)\n",
    "# # create multi-level column names for gpt3 and gpt4 and then concat\n",
    "# df_gpt3.columns = pd.MultiIndex.from_product([['gpt-3.5-turbo']])\n",
    "# df_gpt4.columns = pd.MultiIndex.from_product([['gpt-4-turbo-preview']])\n",
    "# df = pd.concat([df_gpt3, df_gpt4], axis=1)\n",
    "df =pd.DataFrame.from_dict(data['results'],orient='columns').stack().to_frame()\n",
    "df = pd.DataFrame(df[0].values.tolist(), index=df.index).reset_index()\n",
    "# df.rename_axis('model', inplace=True)\n",
    "# group by model name\n",
    "df.rename(columns={'level_1': 'model'}, inplace=True)\n",
    "df = df.drop(columns=['level_0']).reset_index(drop=True)\n",
    "df = df.groupby('model').sum()\n",
    "df = df['solved']/5.0\n",
    "df\n",
    "\n",
    "# colors axes.prop_cycle : cycler('color', ['EE7733', '0077BB', '33BBEE', 'EE3377', 'CC3311', '009988', 'BBBBBB'])\n",
    "colors = ['#EE7733', '#0077BB', '#33BBEE', '#EE3377', '#CC3311', '#009988', '#BBBBBB']\n",
    "\n",
    "df.plot(kind='bar', color=colors)\n",
    "plt.ylabel('Solved (%)')\n",
    "plt.xticks(rotation=0)\n",
    "plt.title(f'Solved Blockworld Problems for N={data[\"meta\"]}')\n",
    "plt.tight_layout()\n",
    "\n"
   ]
  },
  {
   "cell_type": "code",
   "execution_count": 106,
   "metadata": {},
   "outputs": [
    {
     "data": {
      "text/plain": [
       "<AxesSubplot:xlabel='nblocks', ylabel='acc'>"
      ]
     },
     "execution_count": 106,
     "metadata": {},
     "output_type": "execute_result"
    },
    {
     "data": {
      "image/png": "[encoded data removed]",
      "text/plain": [
       "<Figure size 330x250 with 1 Axes>"
      ]
     },
     "metadata": {},
     "output_type": "display_data"
    }
   ],
   "source": [
    "plt.style.use(['science', 'no-latex', 'nature'])\n",
    "NBLOCKS=[i for i in range(4)]\n",
    "results = {\n",
    "    'gpt4': {2:5.0, 3:3.5, 4:3.0, 5:0.0},\n",
    "    'gpt3': {2:2.0, 3:1.0, 4:0.0, 5:0.0},\n",
    "}\n",
    "df = pd.DataFrame(results)\n",
    "df =df.stack().to_frame()\n",
    "df.reset_index(inplace=True)\n",
    "df.rename(columns={'level_1': 'model'}, inplace=True)\n",
    "df.rename(columns={'level_0': 'nblocks'}, inplace=True)\n",
    "df.rename(columns={df.columns.values[2]: 'acc'}, inplace=True)\n",
    "df.head()\n",
    "colors = ['#EE7733', '#0077BB', '#33BBEE', '#EE3377', '#CC3311', '#009988', '#BBBBBB']\n",
    "sns.barplot(data=df, x='nblocks', y='acc', hue='model', palette=colors)\n"
   ]
  }
 ],
 "metadata": {
  "kernelspec": {
   "display_name": "Python 3",
   "language": "python",
   "name": "python3"
  },
  "language_info": {
   "codemirror_mode": {
    "name": "ipython",
    "version": 3
   },
   "file_extension": ".py",
   "mimetype": "text/x-python",
   "name": "python",
   "nbconvert_exporter": "python",
   "pygments_lexer": "ipython3",
   "version": "3.8.10"
  }
 },
 "nbformat": 4,
 "nbformat_minor": 2
}
